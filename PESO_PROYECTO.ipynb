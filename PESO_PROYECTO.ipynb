{
 "cells": [
  {
   "cell_type": "code",
   "execution_count": 10,
   "metadata": {},
   "outputs": [
    {
     "name": "stdout",
     "output_type": "stream",
     "text": [
      "Archivo: Dataset_para_Funciones_API.ipynb --> Tamaño: 0.09 MB\n",
      "Archivo: ETL.ipynb --> Tamaño: 0.06 MB\n",
      "Archivo: main.py --> Tamaño: 0.01 MB\n"
     ]
    }
   ],
   "source": [
    "import os\n",
    "\n",
    "# Lista de rutas a los archivos que deseas analizar\n",
    "rutas_archivos = [\n",
    "    'Dataset_para_Funciones_API.ipynb',\n",
    "    'ETL.ipynb',\n",
    "    'main.py'\n",
    "    # Agrega más rutas de archivos si es necesario\n",
    "]\n",
    "\n",
    "# Función para convertir bytes a megabytes\n",
    "def bytes_a_mb(bytes):\n",
    "    return bytes / (1024 * 1024)\n",
    "\n",
    "# Itera a través de las rutas de los archivos y calcula el tamaño de cada uno\n",
    "for ruta_archivo in rutas_archivos:\n",
    "    # Verifica si el archivo existe\n",
    "    if os.path.exists(ruta_archivo):\n",
    "        tamaño_bytes = os.path.getsize(ruta_archivo)\n",
    "        tamaño_mb = bytes_a_mb(tamaño_bytes)\n",
    "        print(f\"Archivo: {ruta_archivo} --> Tamaño: {tamaño_mb:.2f} MB\")\n",
    "    else:\n",
    "        print(f\"El archivo '{ruta_archivo}' no existe.\")"
   ]
  },
  {
   "cell_type": "code",
   "execution_count": 2,
   "metadata": {},
   "outputs": [
    {
     "name": "stdout",
     "output_type": "stream",
     "text": [
      "Carpeta: Archivos_para_API --> Peso Total: 5.66 MB\n",
      "Carpeta: DATASET_STEAM_LIMPIO --> Peso Total: 41.32 MB\n",
      "Carpeta: DATASET_STEAM --> Peso Total: 589.14 MB\n",
      "Carpeta: Archivos_para_SISTEMA_DE_RECOMENDACIÓN --> Peso Total: 615.10 MB\n"
     ]
    }
   ],
   "source": [
    "import os\n",
    "\n",
    "# Función para convertir bytes a megabytes\n",
    "def bytes_a_mb(bytes):\n",
    "    return bytes / (1024 * 1024)\n",
    "\n",
    "# Función para calcular el tamaño total de una carpeta\n",
    "def calcular_peso_carpeta(ruta_carpeta):\n",
    "    total_bytes = 0\n",
    "\n",
    "    # Itera a través de todos los archivos y subdirectorios dentro de la carpeta\n",
    "    for dirpath, _, filenames in os.walk(ruta_carpeta):\n",
    "        for filename in filenames:\n",
    "            filepath = os.path.join(dirpath, filename)\n",
    "            total_bytes += os.path.getsize(filepath)\n",
    "\n",
    "    # Convierte bytes a megabytes\n",
    "    total_mb = bytes_a_mb(total_bytes)\n",
    "    return total_mb\n",
    "\n",
    "# Rutas de las carpetas que deseas analizar\n",
    "rutas_carpetas = [\n",
    "    'Archivos_para_API',\n",
    "    'DATASET_STEAM_LIMPIO',\n",
    "    'DATASET_STEAM',\n",
    "    'Archivos_para_SISTEMA_DE_RECOMENDACIÓN'\n",
    "    # Agrega más rutas de carpetas si es necesario\n",
    "]\n",
    "\n",
    "# Itera a través de las rutas de las carpetas y calcula el tamaño total de cada una\n",
    "for ruta_carpeta in rutas_carpetas:\n",
    "    # Verifica si la carpeta existe\n",
    "    if os.path.exists(ruta_carpeta):\n",
    "        peso_total_mb = calcular_peso_carpeta(ruta_carpeta)\n",
    "        print(f\"Carpeta: {ruta_carpeta} --> Peso Total: {peso_total_mb:.2f} MB\")\n",
    "    else:\n",
    "        print(f\"La carpeta '{ruta_carpeta}' no existe.\")"
   ]
  },
  {
   "cell_type": "code",
   "execution_count": 4,
   "metadata": {},
   "outputs": [
    {
     "name": "stdout",
     "output_type": "stream",
     "text": [
      "El archivo cosine_sim_item.parquet tiene un peso de 3.82 MB\n"
     ]
    }
   ],
   "source": [
    "import os\n",
    "\n",
    "def obtener_peso_en_mb(archivo):\n",
    "    # Obtiene el tamaño del archivo en bytes\n",
    "    tamano_bytes = os.path.getsize(archivo)\n",
    "    # Convierte el tamaño a megabytes\n",
    "    tamano_mb = tamano_bytes / (1024.0 * 1024.0)\n",
    "    return tamano_mb\n",
    "\n",
    "def mostrar_peso_archivos_en_carpeta(ruta_carpeta):\n",
    "    # Obtiene la lista de archivos en la carpeta\n",
    "    archivos = os.listdir(ruta_carpeta)\n",
    "\n",
    "    # Itera sobre cada archivo y muestra su tamaño en MB\n",
    "    for archivo in archivos:\n",
    "        ruta_completa = os.path.join(ruta_carpeta, archivo)\n",
    "        if os.path.isfile(ruta_completa):\n",
    "            peso_mb = obtener_peso_en_mb(ruta_completa)\n",
    "            print(f\"El archivo {archivo} tiene un peso de {peso_mb:.2f} MB\")\n",
    "\n",
    "# Reemplaza 'ruta_de_tu_carpeta' con la ruta de la carpeta que deseas analizar\n",
    "ruta_de_tu_carpeta = 'Archivos_para_SISTEMA_DE_RECOMENDACIÓN'\n",
    "mostrar_peso_archivos_en_carpeta(ruta_de_tu_carpeta)\n"
   ]
  }
 ],
 "metadata": {
  "kernelspec": {
   "display_name": "Python 3",
   "language": "python",
   "name": "python3"
  },
  "language_info": {
   "codemirror_mode": {
    "name": "ipython",
    "version": 3
   },
   "file_extension": ".py",
   "mimetype": "text/x-python",
   "name": "python",
   "nbconvert_exporter": "python",
   "pygments_lexer": "ipython3",
   "version": "3.11.5"
  }
 },
 "nbformat": 4,
 "nbformat_minor": 2
}
